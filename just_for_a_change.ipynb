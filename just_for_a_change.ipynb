{
 "cells": [
  {
   "cell_type": "code",
   "execution_count": 8,
   "metadata": {},
   "outputs": [],
   "source": [
    "import pandas as pd\n",
    "import numpy as np\n",
    "import matplotlib.pyplot as plt"
   ]
  },
  {
   "cell_type": "code",
   "execution_count": 3,
   "metadata": {},
   "outputs": [],
   "source": [
    "df=pd.read_csv('compiled_dataframe_without_scaling.csv')"
   ]
  },
  {
   "cell_type": "code",
   "execution_count": 6,
   "metadata": {},
   "outputs": [],
   "source": [
    "df=df.iloc[:,1:]"
   ]
  },
  {
   "cell_type": "code",
   "execution_count": 12,
   "metadata": {},
   "outputs": [
    {
     "data": {
      "text/plain": [
       "output         1.000000\n",
       "ETA_Beta       0.632204\n",
       "piPC2          0.622605\n",
       "nBondsM        0.614129\n",
       "ETA_Eta_F_L    0.613697\n",
       "ETA_Beta_ns    0.611483\n",
       "piPC3          0.606964\n",
       "nRing          0.603155\n",
       "TPC            0.603146\n",
       "MPC8           0.603133\n",
       "SpMin3_Bhi     0.602563\n",
       "MPC5           0.601941\n",
       "MPC7           0.599408\n",
       "piPC1          0.599113\n",
       "MPC9           0.596663\n",
       "MPC4           0.596648\n",
       "MPC6           0.594214\n",
       "SP-5           0.586913\n",
       "MPC10          0.586736\n",
       "SpMin3_Bhe     0.580936\n",
       "Name: output, dtype: float64"
      ]
     },
     "execution_count": 12,
     "metadata": {},
     "output_type": "execute_result"
    }
   ],
   "source": [
    "abs(df.corr()['output']).sort_values(ascending=False).head(20)"
   ]
  },
  {
   "cell_type": "code",
   "execution_count": null,
   "metadata": {},
   "outputs": [],
   "source": [
    "a=00000\n",
    "b=001\n",
    "c=010\n",
    "d=100\n",
    "e=011\n",
    "f=101\n",
    "g=110\n",
    "h=111\n"
   ]
  },
  {
   "cell_type": "code",
   "execution_count": 13,
   "metadata": {},
   "outputs": [],
   "source": [
    "s=str('a')\n"
   ]
  },
  {
   "cell_type": "code",
   "execution_count": 14,
   "metadata": {},
   "outputs": [
    {
     "data": {
      "text/plain": [
       "dtype('S')"
      ]
     },
     "execution_count": 14,
     "metadata": {},
     "output_type": "execute_result"
    }
   ],
   "source": [
    "np.dtype(s)"
   ]
  },
  {
   "cell_type": "code",
   "execution_count": null,
   "metadata": {},
   "outputs": [],
   "source": []
  }
 ],
 "metadata": {
  "kernelspec": {
   "display_name": "Python 3",
   "language": "python",
   "name": "python3"
  },
  "language_info": {
   "codemirror_mode": {
    "name": "ipython",
    "version": 3
   },
   "file_extension": ".py",
   "mimetype": "text/x-python",
   "name": "python",
   "nbconvert_exporter": "python",
   "pygments_lexer": "ipython3",
   "version": "3.12.3"
  }
 },
 "nbformat": 4,
 "nbformat_minor": 2
}
